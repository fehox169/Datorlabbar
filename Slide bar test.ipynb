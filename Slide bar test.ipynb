{
 "cells": [
  {
   "cell_type": "code",
   "execution_count": 2,
   "id": "b77eac0f",
   "metadata": {},
   "outputs": [
    {
     "data": {
      "application/vnd.jupyter.widget-view+json": {
       "model_id": "232abc27751f49bdbde3154774c12836",
       "version_major": 2,
       "version_minor": 0
      },
      "text/plain": [
       "interactive(children=(FloatSlider(value=1.0, description='k1', max=10.0, min=0.1), FloatSlider(value=0.5, desc…"
      ]
     },
     "metadata": {},
     "output_type": "display_data"
    },
    {
     "data": {
      "text/plain": [
       "<function __main__.update_plot(k1, k2, xmin, xmax, ymax)>"
      ]
     },
     "execution_count": 2,
     "metadata": {},
     "output_type": "execute_result"
    }
   ],
   "source": [
    "import numpy as np\n",
    "from scipy.integrate import solve_ivp\n",
    "import matplotlib.pyplot as plt\n",
    "import ipywidgets as widgets\n",
    "from ipywidgets import interact\n",
    "\n",
    "# Define the rate equations for the consecutive reaction mechanism A -> B -> C\n",
    "def rate_equations(t, concentrations, k1, k2):\n",
    "    A, B, C = concentrations\n",
    "    dA_dt = -k1 * A\n",
    "    dB_dt = k1 * A - k2 * B\n",
    "    dC_dt = k2 * B\n",
    "    return [dA_dt, dB_dt, dC_dt]\n",
    "\n",
    "# Initial concentrations of A, B, and C\n",
    "initial_concentrations = [1.0, 0.0, 0.0]  # Assuming initial concentration of A is 1 and B, C are 0\n",
    "\n",
    "# Time span (0 to 10 minutes)\n",
    "time_span = (0, 10)\n",
    "\n",
    "# Time points for evaluation\n",
    "time_points = np.linspace(0, 10, 200)\n",
    "\n",
    "# Function to update the plot based on slider values\n",
    "def update_plot(k1, k2, xmin, xmax, ymax):\n",
    "    solution = solve_ivp(rate_equations, time_span, initial_concentrations, t_eval=time_points, args=(k1, k2))\n",
    "    # plt.figure(figsize=(10, 6))\n",
    "    plt.plot(solution.t, solution.y[0], label='[A]')\n",
    "    plt.plot(solution.t, solution.y[1], label='[B]')\n",
    "    plt.plot(solution.t, solution.y[2], label='[C]')\n",
    "    plt.axis((xmin, xmax, 0, ymax))\n",
    "    plt.xlabel('Time (minutes)')\n",
    "    plt.ylabel('Concentration')\n",
    "    plt.legend()\n",
    "    plt.title('Concentration vs Time for Consecutive Reaction Mechanism A -> B -> C')\n",
    "    plt.show()\n",
    "\n",
    "# Create interactive sliders for k1 and k2\n",
    "interact(update_plot, k1=widgets.FloatSlider(value=1.0, min=0.1, max=10.0, step=0.1, description='k1'),\n",
    "                   k2=widgets.FloatSlider(value=0.5, min=0.1, max=10.0, step=0.1, description='k2'),\n",
    "                   xmin=widgets.FloatSlider(value=0, min=0, max=10.0, step=0.1, description='xmin'),\n",
    "                   xmax=widgets.FloatSlider(value=10, min=0.1, max=10.0, step=0.1, description='xmax'),\n",
    "                   ymax=widgets.FloatSlider(value=1.0, min=0, max=1.0, step=0.01, description='ymax')) \n",
    "\n"
   ]
  },
  {
   "cell_type": "code",
   "execution_count": null,
   "id": "e9b39626",
   "metadata": {},
   "outputs": [],
   "source": []
  }
 ],
 "metadata": {
  "kernelspec": {
   "display_name": "Python 3 (ipykernel)",
   "language": "python",
   "name": "python3"
  },
  "language_info": {
   "codemirror_mode": {
    "name": "ipython",
    "version": 3
   },
   "file_extension": ".py",
   "mimetype": "text/x-python",
   "name": "python",
   "nbconvert_exporter": "python",
   "pygments_lexer": "ipython3",
   "version": "3.12.7"
  }
 },
 "nbformat": 4,
 "nbformat_minor": 5
}
