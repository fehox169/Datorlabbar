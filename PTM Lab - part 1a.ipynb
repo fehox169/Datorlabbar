{
 "cells": [
  {
   "cell_type": "markdown",
   "id": "8082cb71",
   "metadata": {},
   "source": [
    "$$\\require{mhchem}$$"
   ]
  },
  {
   "cell_type": "markdown",
   "id": "45d9af7a",
   "metadata": {},
   "source": [
    "# Modelling complex reactions\n",
    "_This lab is based on the material in Fogler, Elements of Chemical Reaction Engineering (2006, 4th ed)_ \n",
    "\n",
    "_Revised Oct 2024 to adapt to using Python._"
   ]
  },
  {
   "cell_type": "markdown",
   "id": "d1fc13ca",
   "metadata": {},
   "source": [
    "## Introduction\n",
    "\n",
    "During this computer lab you will model a number of complex reactions systems using Python and Jupyter notebook. You will first work in groups to come up with appropriate mathematical descriptions of the systems, with appropriate reference to principles of mass balance and reaction kinetics. After that you will convert these models into Matlab functions and scripts so that you can solve the systems’ ordinary differential equations to get information about how the system behaves with time/reactor volume. \n",
    "\n",
    "__At the end of this computer laboratory exercise, you should be able to:__ \n",
    "* Describe the kinetic behaviour of a multiple reaction system in a reactor using ordinary \n",
    "differential equations as well as other input parameters and equations. \n",
    "* Model the kinetic behaviour of such systems as a function of time/reactor volume by solving \n",
    "the appropriate systems of ordinary differential equations using Matlab. \n",
    "* Analyse the results of the modelling and discuss their physical interpretation and relevance \n",
    "to process optimisation. "
   ]
  },
  {
   "cell_type": "markdown",
   "id": "c17cc5ce",
   "metadata": {},
   "source": [
    "#### This computer lab is divided into three parts. Parts 1 and 2 will be completed during the first lab day. Part 3 requires some prior preparation and will be completed during the second lab day. \n",
    "1. Modelling of a simple series of consecutive reactions.\n",
    "> Here you will be reminded of how to set up a kinetics model for a reaction mechanism based on rate equations. You will also be reminded how to solve systems of ordinary differential equations using an ODE solver in the Scipy library.\n",
    "\n",
    "2. Modelling a more complex reaction mechanism\n",
    "> With somewhat less guidance, you will set up the kinetics model for a more complex set of reactions taking place in a plug-flow reactor (PFR). By solving the resulting set of ordinary differential equations, you will numerically model how the concentrations of the different reactants and products change along the length of the PFR.\n",
    "\n",
    "There are numerous leading questions in text boxes throughout Parts 1 and 2. These are meant to provide guidance to help you build and understand the models. The answers to these questions do not need to be handed in, but you will be examined orally by explaining your answers to the lab teacher.\n",
    "\n",
    "3. Modelling of a bioreactor\n",
    "> You are given background information of the growth characteristics of microorganisms and factors that influence their growth and product formation. Using this information, you will come up with a model for modelling cell growth, substrate consumption and product formation in a bioreactor time. This model will then be implemented and solved numerically. The results are to be presented, interpreted and discussed in a written report. \n",
    "<hr>"
   ]
  },
  {
   "cell_type": "markdown",
   "id": "7d64e16b",
   "metadata": {},
   "source": [
    "## 1. Warming up : consecutive reaction mechanism"
   ]
  },
  {
   "cell_type": "markdown",
   "id": "85d4d809",
   "metadata": {},
   "source": [
    "**In this section, you will go through a worked example to analyse a simple consecutive reaction mechanism using rate equations, and then solve the resulting system of ordinary differential equations (ODEs) using Python.** \n",
    "\n",
    "**The aim is to both illustrate/remind you how to construct kinetic models in order to be able to model how species’ concentrations vary with time, as well as to refresh your knowledge about Python.**"
   ]
  },
  {
   "cell_type": "markdown",
   "id": "5a1fd912",
   "metadata": {},
   "source": [
    "### 1.1 The reaction mechanism\n",
    "Consider a reaction in the liquid phase (i.e. no change in volume/flow rate) where a reactant A reacts to first build an intermediate I, which in turn reacts to form the final product P:\n",
    "\n",
    "$$\\ce{A ->[k_1] I ->[k_2] P}$$\n",
    "    \n",
    "where $k_1$ and $k_2$ are the rate constants of the two respective reactions.\n",
    "\n",
    "An example of this kind of reaction mechanism is the oxidation of ethanol to form acetaldehyde and then acetic acid. In the body these reactions are catalysed by the enzymes alcohol dehydrogenase (ADH) and aldehydehydrogenase (ALDH2), respectively."
   ]
  },
  {
   "cell_type": "markdown",
   "id": "a756d01c",
   "metadata": {},
   "source": [
    "### The kinetic model: how do the concentrations change with time?\n",
    "It is obvious that concentration of the species A, I and P are going to change with time, and also depend on how fast these two consecutive reactions are relative to each other. But how can this be described mathematically?\n",
    "\n",
    "From reaction kinetics we know that, if the mechanism above represents a series of elementary reactions, then the rate of reaction ($r_i$) is equal to the rate constant times the concentration of the reactant(s) ($C_i$) of the reaction raise to the power of the respective order of reaction ($m$).\n",
    "\n",
    "<br>\n",
    "<center>Rate = (rate constant)(reaction concentration)<sup>(order or reaction)</sup></center><br>\n",
    "$$r_i = k C_i^m$$\n",
    "\n",
    "For multiple reactions, the net rate of reaction for a particular species is simply the sum of the rates for that species in each of the reactions involved (see below).\n",
    "\n",
    "For the mechanism above, the rate of disappearance of reactant A is given by:\n",
    "\n",
    "$$r_A = \\frac{dC_A}{dt} = -k_1C_A$$\n",
    "\n",
    "The negative sign indicates consumption of the reactant.\n",
    "\n",
    "For the intermediate I, the net rate of reaction is the sum of its production from A, and its consumption to form P. In other words:\n",
    "\n",
    "$$r_I=\\frac{dC_I}{dt}=k_1C_A - k_2C_I$$\n",
    "\n",
    "Note that both terms are given in terms of the concentration of the reactant for the reaction in question not the product’s concentration."
   ]
  },
  {
   "cell_type": "markdown",
   "id": "2f94c6a3",
   "metadata": {},
   "source": [
    "**Question: Why is reactant rather than product concentration used? Why do we sum up the terms?**"
   ]
  },
  {
   "cell_type": "markdown",
   "id": "e297988d",
   "metadata": {},
   "source": [
    "Answer:\n",
    "\n",
    "\n"
   ]
  },
  {
   "cell_type": "markdown",
   "id": "815bf1b7",
   "metadata": {},
   "source": [
    "For the product P, the rate equation is then:\n",
    "\n",
    "$$r_P = \\frac{dC_P}{dt} = k_2C_I$$\n",
    "\n",
    "We now have a system of three ordinary differential equations (ODEs) that involve the variables $C_A$, $C_I$ and $C_P$. Solving this system with respect to time would then give us kinetic traces of how the concentration of these species change with time (Figure 1)."
   ]
  },
  {
   "cell_type": "markdown",
   "id": "bf03447b",
   "metadata": {},
   "source": [
    "**Question: What is meant by “solving a system of ODEs”? What counts as an acceptable solution?**"
   ]
  },
  {
   "cell_type": "markdown",
   "id": "bc9587b6",
   "metadata": {},
   "source": [
    "Answer:\n",
    "\n",
    "\n",
    "\n",
    "    "
   ]
  },
  {
   "attachments": {
    "fig%201.png": {
     "image/png": "[encoded data removed]"
    }
   },
   "cell_type": "markdown",
   "id": "ff32b1d0",
   "metadata": {},
   "source": [
    "![fig%201.png](attachment:fig%201.png)\n",
    "**Fig 1: Solving the ODE to give kinetic traces for the concentrations of the species in the consecutive reaction mechanism.**"
   ]
  },
  {
   "cell_type": "markdown",
   "id": "feb56ec6",
   "metadata": {},
   "source": [
    "While some systems of ODEs (such as this simple one) can be solved analytically, more complex ones often do not have analytical solutions and must be solved numerically. We will now use Matlab to perform such a numerical solution for the mechanism above."
   ]
  },
  {
   "cell_type": "markdown",
   "id": "35872736",
   "metadata": {},
   "source": [
    "### Solving ODEs with Python\n",
    "There are Python libraries that can be used for doing mathematical procedures in scientific computation and visualisations. **Numpy** and **Scipy** are commonly used for numerical computations, with Scipy being more powerful for more advanced computations. **Matplotlib** is commonly used for data visualisation.\n",
    "\n",
    "Each of these libraries needs to be imported before use. Commonly, the \"nicknames\" are used to simply the calling of functions from these libraries. "
   ]
  },
  {
   "cell_type": "markdown",
   "id": "631dfa52",
   "metadata": {},
   "source": [
    "#### Using the `odeint` solver\n",
    "For solving ODEs, `odeint` is a common and easy to use function for simply ODE problems."
   ]
  },
  {
   "cell_type": "code",
   "execution_count": null,
   "id": "082939bf",
   "metadata": {},
   "outputs": [],
   "source": [
    "import numpy as np   # import the whole Numpy library, with nickname np\n",
    "from scipy.integrate import odeint   # import odeint from a part of the Scipy library\n",
    "import matplotlib.pyplot as plt   # import a specific function från the matplotlib library and give it a nickname"
   ]
  },
  {
   "cell_type": "markdown",
   "id": "98a8ba50",
   "metadata": {},
   "source": [
    "To model our consecutive reaction mechanism $\\ce{A ->[k_1] I ->[k_2] P}$, we need to define the set of ODEs describing the mechanism. This can be done by first defining the system of ODEs as a function, which is later forms part of the input for the ODE solver.\n",
    "\n",
    "Note that the order of the dependent and independent variables in the function must correspond to what the ODE solver expects. As `odeint`, the dependent variable comes before the independent variable (as this solver is based on the convention used in older FORTRAN libraries).\n",
    "\n",
    "See the [Scipy documentation on `odeint`](https://docs.scipy.org/doc/scipy/reference/generated/scipy.integrate.odeint.html#scipy.integrate.odeint) to find out more about its syntax. "
   ]
  },
  {
   "cell_type": "code",
   "execution_count": null,
   "id": "4f4e52f3",
   "metadata": {},
   "outputs": [],
   "source": [
    "# Define the system of ODEs\n",
    "\n",
    "# Define a function called rate_laws, with 'concentration' as the dependent variable\n",
    "# and 't' as the independent variable.\n",
    "def rate_laws(concentrations, t): \n",
    "        \n",
    "    A, I, P = concentrations   # The individual species' concentrations are given as an array for the variable concentration.\n",
    "    \n",
    "    dA_dt = -k1 * A    # rate law for the reactant B\n",
    "    \n",
    "    # complete with the rate laws for B and C!\n",
    "    dI_dt = k1 * A - k2 * I     \n",
    "    dP_dt = k2 * I\n",
    "    return [dA_dt, dI_dt, dP_dt] # Gives the output of the function as the array for the ODEs."
   ]
  },
  {
   "cell_type": "markdown",
   "id": "0a51c260",
   "metadata": {},
   "source": [
    "To further prepare for solving the system of ODEs, the values of the rate constants need to be defined. Also, as this is an initial value problem, the initial concentations of A, B and C need to be defined. Here, we assume that only A is present at time $t$ = 0."
   ]
  },
  {
   "cell_type": "code",
   "execution_count": null,
   "id": "fb02ad55",
   "metadata": {},
   "outputs": [],
   "source": [
    "# Define the rate constants\n",
    "k1 = 1.0  # Rate constant for A --> I\n",
    "k2 = 0.5  # Rate constant for I --> P\n",
    "\n",
    "# Initial concentrations\n",
    "A0 = 1.0  # Initial concentration of A\n",
    "I0 = 0.0  # Initial concentration of I\n",
    "P0 = 0.0  # Initial concentration of P"
   ]
  },
  {
   "cell_type": "markdown",
   "id": "0dcd7576",
   "metadata": {},
   "source": [
    "For `odeint`, the time points used for solving the ODE also needs to be defined. These form the array $t$ that will be used  by the solver. The function `linspace`from Numpy can be used to create equally spaced points.\n",
    "\n",
    "Note that it is obligatory to define the time points for solving the ODEs when using `odeint`, and these points must be monotonically increasing or decreasing (though repeats are allowed). Some other solvers do not have this requirement, and are able to adjust the time steps dynamically (see later)."
   ]
  },
  {
   "cell_type": "code",
   "execution_count": null,
   "id": "2d5df6ae",
   "metadata": {},
   "outputs": [],
   "source": [
    "# Time points where solution is computed\n",
    "t = np.linspace(0, 10, 100)   # 100 time points from 0 to 10.\n",
    "print(t)  # This is not needed for the calculation - added just to show you what is being done."
   ]
  },
  {
   "cell_type": "markdown",
   "id": "2bea654d",
   "metadata": {},
   "source": [
    "**Questions:**\n",
    "\n",
    "**(a) How do we know what the units of time are?**\n",
    "\n",
    "**(b) When might it be good to use equally spaced time points? When might it not be? How would you choose how closely the time points are spaced?**"
   ]
  },
  {
   "cell_type": "markdown",
   "id": "5e7bb3d5",
   "metadata": {},
   "source": [
    "Answers:\n",
    "\n",
    "\n",
    "\n",
    "\n",
    "\n",
    "\n",
    "\n"
   ]
  },
  {
   "cell_type": "markdown",
   "id": "294057e9",
   "metadata": {},
   "source": [
    "Finally, we use the `odeint` function to solve the system of ODE. Give the output a name so that the results can be plotted afterwards."
   ]
  },
  {
   "cell_type": "code",
   "execution_count": null,
   "id": "7b0015c2",
   "metadata": {
    "scrolled": true
   },
   "outputs": [],
   "source": [
    "# Solve the system of ODEs\n",
    "solution = odeint(rate_laws, [A0, I0, P0], t)\n",
    "# output = odeint(function with the ODE, initial values, time points)\n",
    "\n",
    "# The following is not necessary for the calcuation,\n",
    "# but inserted here to help you to explore the structure of the output\n",
    "print(solution) \n",
    "print(type(solution)) # data type of the output \n",
    "print(solution[0])\n",
    "print(solution[10])\n",
    "print(solution[:,0])"
   ]
  },
  {
   "cell_type": "markdown",
   "id": "10f79e08",
   "metadata": {},
   "source": [
    "**Question: Given the printed outputs for the variable `solution` that contains the solution from the ODE solver, interpret how the concentrations as a function of time is stored in the variable.**"
   ]
  },
  {
   "cell_type": "markdown",
   "id": "d488a3c6",
   "metadata": {},
   "source": [
    "Answer:\n",
    "\n",
    "\n",
    "\n",
    "\n"
   ]
  },
  {
   "cell_type": "markdown",
   "id": "c01973d3",
   "metadata": {},
   "source": [
    "Now we can plot the results using `plot` from `pyplot` (nicknamed `plt` above) from the Matplotlib library.\n",
    "The output solution is a matrix containing the concentrations of A, B and C in their own columns (Python start numbering from 0). Each row corresponds to a time point given in the array $t$."
   ]
  },
  {
   "cell_type": "code",
   "execution_count": null,
   "id": "4325b6ef",
   "metadata": {},
   "outputs": [],
   "source": [
    "# Plot the results\n",
    "plt.plot(t, solution[:, 0], label='[A]')  # extract the concentration values of A, plot against time.\n",
    "# Complete the commands for B, and C\n",
    "plt.plot(t, solution[:, 1], label='[I]') \n",
    "plt.plot(t, solution[:, 2], label='[P]') \n",
    "\n",
    "# Add additional components of the graph\n",
    "plt.xlabel('Time')  # label for the x-axis\n",
    "plt.ylabel('Concentration') # label for the y-axis\n",
    "plt.legend() # Show legend, the content is taken from the labels given above for each of the curves\n",
    "plt.title('Concentration vs Time for Consecutive Reaction A --> I --> P') # Show title of the graph\n",
    "plt.show() # Show the resulting plot"
   ]
  },
  {
   "cell_type": "markdown",
   "id": "d61ca9a7",
   "metadata": {},
   "source": [
    "Note that you can customise the appearance of the curves in different ways (e.g. using different lines or no line, different colours, different data point markers etc). Examples can be found at e.g. https://python-course.eu/numerical-programming/formatting-plot-in-matplotlib.php and https://www.w3schools.com/python/matplotlib_plotting.asp. More extensive documentation and examples can be found on the [Matplotlib website](https://matplotlib.org/stable/api/_as_gen/matplotlib.pyplot.plot.html).\n",
    "\n",
    "_**Try making changes to the code above to change customise the appearance of the graph!**_"
   ]
  },
  {
   "cell_type": "markdown",
   "id": "94502eb1",
   "metadata": {},
   "source": [
    "**Question: Look back at the model that you have just set up and solved. For what kind of reactor (batch, \n",
    "CSTR, PFR) is the model appropriate for? Why?**"
   ]
  },
  {
   "cell_type": "markdown",
   "id": "4ba606a1",
   "metadata": {},
   "source": [
    "Answer:\n",
    "\n",
    "\n",
    "\n",
    "\n"
   ]
  },
  {
   "cell_type": "markdown",
   "id": "efab4b9f",
   "metadata": {},
   "source": [
    "**Questions:**\n",
    "\n",
    "**(a) Consider Fig 1 and your results from the consecutive reaction mechanism. Why is there a peak in the curve for the reaction intermediate $I$?**\n",
    "\n",
    "**(b) What changes in the system would make this peak concentration higher or lower? Try this by changing the script appropriately. Describe and explain the results of your trials.**\n",
    "\n",
    "**(c)  How would you find out at what point in time the $C_I$ was the highest, and what that concentration was? <br> Write and test the Python code for this! Also, try changing the x-range on your plot and data markers to verify the results visually!**"
   ]
  },
  {
   "cell_type": "markdown",
   "id": "e6e1b837",
   "metadata": {},
   "source": [
    "Answer: (a) & (b)\n",
    "\n",
    "\n",
    "\n",
    "\n",
    "\n",
    "\n",
    "\n"
   ]
  },
  {
   "cell_type": "code",
   "execution_count": null,
   "id": "f7db6131",
   "metadata": {},
   "outputs": [],
   "source": [
    "# Answer to (c)\n"
   ]
  },
  {
   "cell_type": "markdown",
   "id": "66291e1f",
   "metadata": {},
   "source": [
    "#### Using the `solve_ivp` ODE solver"
   ]
  },
  {
   "cell_type": "markdown",
   "id": "7f09230a",
   "metadata": {},
   "source": [
    "An alternative solver is `solve_ivp`, where ivp stands for \"initial value problem\".\n",
    "\n",
    "This is a solver that gives the use more control over which algorithm is used for the solution, although it uses the Runge-Kutte 45 solver by default. It also allows the user to choose the stopping condition for the solution. It also can determine time steps dynamically, which means you only need to define the start and stop time point for the solution, not explicitly define the time points to be solved for.\n",
    "\n",
    "For very large ODEs, this solver can be more efficient. The `odeint` solver above is nevertheless fine for simpler systems (like this one), and it's perhaps also somewhat simpler to use, as you may notice below.\n",
    "\n",
    "But let's try solving the following, similar consecutive reaction mechanism using `solver_ivp`.\n",
    "\n",
    "$$\\ce{P ->[k_3] 2Q ->[k_4] R}$$\n",
    "\n",
    "The rate constants $k_3$ and $k_4$ have values  $1.0 mol \\cdot\\ L^{-1}$ and  $0.50 mol \\cdot\\ L^{-1}$, respectively. At the beginning of the reaction, only P is present, at a concentration of $1.0 mol\\cdot L^{-1}$.\n",
    "\n",
    "Fill in the blanks in the following code! Differences specifically related to `solve_ivp` have been filled in and commented for you.\n",
    "\n",
    "**Note that `solve_ivp` follows the more modern convention of expecting the independent variable before the dependent variable.** "
   ]
  },
  {
   "cell_type": "code",
   "execution_count": null,
   "id": "e535d779",
   "metadata": {},
   "outputs": [],
   "source": [
    "# import what you will need from relevant libraries.\n",
    "import numpy as np   # import the whole Numpy library, with nickname np\n",
    "from scipy.integrate import solve_ivp   # import solve_ivp from a part of the Scipy library\n",
    "import matplotlib.pyplot as plt   # import a specific function från the matplotlib library and give it a nickname\n",
    "\n",
    "# Define the system of ODEs\n",
    "def rate_laws_2(t, concentrations): # Take note of the order of the variables!\n",
    "    P, Q, R = concentrations\n",
    "    dP_dt = \n",
    "\n",
    " \n",
    "    return []\n",
    "\n",
    "# Define the rate constants\n",
    "\n",
    "\n",
    "\n",
    "# Define the initial concentrations\n",
    "\n",
    "\n",
    "\n",
    "\n",
    "# Define the time span for the solution\n",
    "t_span = (0, 10)    # Only the start and end times need to be defined for solve_ivp\n",
    "\n",
    "# Solve the system of ODEs using solve_ivp\n",
    "# by default the default method RK45 is used if not specified otherwise \n",
    "# Notice that the time span comes before the initial values for solve_ivp\n",
    "\n",
    "solution = solve_ivp(rate_laws_2, t_span, [P0, Q0, R0], dense_output=True) \n",
    "\n",
    "# The following is again not necessary for the calculation\n",
    "# but rather helps you to understand the structure of the output\n",
    "print(solution)\n",
    "print(type(solution))\n",
    "\n",
    "# Extract the time points and concentrations from the solution. \n",
    "# Note that the \"t\" and \"y\" are attributes inherent to the\n",
    "# output form the the solve_ivp function, hence the .-syntax.\n",
    "# They are not related to the variable names given by the user\n",
    "\n",
    "t = solution.t   # this extracts the x-values (named t by solve_ivp, as it's assumed to be time points)\n",
    "concentrations = solution.y # this extracts the x-values (named y by solve_ivp)\n",
    "\n",
    "\n",
    "# Plot the results\n",
    "# Notice the different syntax here for extracting the concentrations of A compared with using odeint\n",
    "# For solve_ivp, the results extracted using solution.y are all in the same *row*, hence \"concentration[0]\"\n",
    "# For odeint, the concentrations for each species are in the output in separate *columns*, hence \"solution[:,0]\"\n",
    "\n",
    "plt.plot(t, concentrations[0], label='[P]')  # concentration of P as a function of time.\n",
    "\n",
    "# Complete the remaining code for plotting graph for all the species in the reaction.\n",
    "\n"
   ]
  },
  {
   "cell_type": "markdown",
   "id": "a569960d",
   "metadata": {},
   "source": [
    "**Questions:**\n",
    "\n",
    "**(a) Why is the code for extracting the concentrations of P, Q and R for plotting in the format _concentration[#]_ here, rather than _solution[:, #]_ as was the case when we used the odeint solver?**\n",
    "\n",
    "**(b) What do you notice about the resolution of the curves in the graph? Why is it so?**\n",
    "\n",
    "**(c) What advantages and disadvantages do you see with this automatic choice of time points?**"
   ]
  },
  {
   "cell_type": "markdown",
   "id": "cda441bb",
   "metadata": {},
   "source": [
    "Answers:\n",
    "\n",
    "\n",
    "\n",
    "\n",
    "\n"
   ]
  },
  {
   "cell_type": "markdown",
   "id": "e0785675",
   "metadata": {},
   "source": [
    "To change the resolution of the output, we use the fact that we set the `Dense_output` as true in using `solve_ivp`.\n",
    "This generates an interpolant function ([output].sol) so that we can go back and evaluate the concentration for any given time point we want. In other words, we can now determine the resolution after the completing the calculation (rather than define the time points _before_ the calculation).\n",
    "\n",
    "To do this, comment out the relevant part the code above, replace with this code, make any further adjustments as necessary to generate a new graph. \n",
    "\n",
    "`t_eval = np.linspace(0, 10, 100)`\n",
    "\n",
    "`concentrations = solution.sol(t_eval)`\n",
    "\n",
    "The concentrations will now be evaluated at the time points defined in `t_eval`."
   ]
  },
  {
   "cell_type": "markdown",
   "id": "139e63c4",
   "metadata": {},
   "source": [
    "**Question:**\n",
    "\n",
    "**(a) What do you notice about the new graph?**\n",
    "\n",
    "**(b) Discuss whether either of the results from these ODE solvers is more correct, and what sources of errors might be involved in each approach.**"
   ]
  },
  {
   "cell_type": "markdown",
   "id": "30aa8a75",
   "metadata": {},
   "source": [
    "Answers:\n",
    "\n",
    "\n",
    "\n",
    "\n",
    "\n",
    "\n"
   ]
  }
 ],
 "metadata": {
  "kernelspec": {
   "display_name": "Python 3 (ipykernel)",
   "language": "python",
   "name": "python3"
  },
  "language_info": {
   "codemirror_mode": {
    "name": "ipython",
    "version": 3
   },
   "file_extension": ".py",
   "mimetype": "text/x-python",
   "name": "python",
   "nbconvert_exporter": "python",
   "pygments_lexer": "ipython3",
   "version": "3.9.9"
  }
 },
 "nbformat": 4,
 "nbformat_minor": 5
}
