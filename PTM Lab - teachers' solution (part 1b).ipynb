{
 "cells": [
  {
   "cell_type": "markdown",
   "id": "8082cb71",
   "metadata": {},
   "source": [
    "$$\\require{mhchem}$$"
   ]
  },
  {
   "cell_type": "markdown",
   "id": "45d9af7a",
   "metadata": {},
   "source": [
    "# Modelling complex reactions (part 1b)\n",
    "_This lab is based on the material in Fogler, Elements of Chemical Reaction Engineering (2006, 4th ed)_ \n",
    "\n",
    "_Revised Oct 2024 to adapt to using Python._"
   ]
  },
  {
   "cell_type": "markdown",
   "id": "7d64e16b",
   "metadata": {},
   "source": [
    "## 2. A more complex reaction system"
   ]
  },
  {
   "cell_type": "markdown",
   "id": "85d4d809",
   "metadata": {},
   "source": [
    "**We will now consider a more complex system involving four competing reactions. The stoichiometries and rate equations are also more complex. You will now construct and solve the ODE system with less assistance, assuming that these reactions take place in a <u>plug-flow reactor (PFR)</u>** "
   ]
  },
  {
   "cell_type": "markdown",
   "id": "5a1fd912",
   "metadata": {},
   "source": [
    "### 2.1 The reaction mechanism\n",
    "Assume that the follow reactions take place concurrently in a PFR:\n",
    " \n",
    "Reaction 1: &nbsp; &nbsp; &nbsp; &nbsp; $\\ce{4A + 5B ->[k_{1A}] 4C + 6D}$ &nbsp; &nbsp; &nbsp; &nbsp; $r_{1A} = -k_{1A}C_A C_B^2$ \n",
    "\n",
    "Reaction 2: &nbsp; &nbsp; &nbsp; &nbsp; $\\ce{2A + \\frac{3}{2}B ->[k_{2A}] E + 3D}$ &nbsp; &nbsp; &nbsp; &nbsp; &nbsp; $r_{2A} = -k_{2A}C_A C_B$ \n",
    "\n",
    "Reaction 3: &nbsp; &nbsp; &nbsp; &nbsp; $\\ce{2C + B ->[k_{3B}] 2F}$ &nbsp; &nbsp; &nbsp; &nbsp; &nbsp; &nbsp;&nbsp; &nbsp; &nbsp;  &nbsp; &nbsp; &nbsp; $r_{3B} = -k_{3B}C_C^2 C_B$ \n",
    "\n",
    "Reaction 4: &nbsp; &nbsp; &nbsp; &nbsp; $\\ce{4A + 6C ->[k_{4C}] 5E + 6D}$ &nbsp; &nbsp; &nbsp; &nbsp; $r_{4C} = -k_{4C}C_A^{1.5} C_C$ \n",
    "\n",
    "A number of things to notice about this reaction mechanism: \n",
    "* Certain species are involved in multiple reactions, as reactants and/or products. \n",
    "* The orders of reaction with respect to each species do not always correspond to the species’ stoichiometric coefficient (e.g. Reaction 1). This means that the reactions shown are not elementary processes, but rather the net reaction of more complex mechanisms. \n",
    "*  The rate equation for each reaction is defined according to a specific species. The subscript refers to the reaction number and the species. For example, in Reaction 3, the rate equation is expressed as the consumption of B, hence $k_{3B}$ and $r_{3B}$. \n",
    "\n",
    "**What we want to do is to model the reactions taking place in the PFR.**"
   ]
  },
  {
   "cell_type": "markdown",
   "id": "a756d01c",
   "metadata": {},
   "source": [
    "### 2.1 The kinetic model: PFR in the liquid phase\n",
    "We consider first the case of the above reactions in the liquid phase. Since they take place in a PFR, we can use the molar material balance equation for a PFR to give us the differential equations for how molar flow rates change as a function of reactor volume. For a species $i$:\n",
    "\n",
    "$$\\frac{d\\dot n_i}{dV} = r_i$$\n",
    "\n",
    "where $r_i$ is the rate equation for species $i$ taking into account all the reactions which it is involved in.\n",
    "\n",
    "Writing such an equation for every species (i.e. $\\frac{d\\dot n_A}{dV} = r_i$, $\\frac{d\\dot n_B}{dV} = r_i$...) gives us then the system of ODEs that we need to solve."
   ]
  },
  {
   "cell_type": "markdown",
   "id": "2f94c6a3",
   "metadata": {},
   "source": [
    "**Question: What is the independent variable when we model a PFR? What is the data/information that we get after we solve such a system of ODEs?**"
   ]
  },
  {
   "cell_type": "markdown",
   "id": "e297988d",
   "metadata": {},
   "source": [
    "Answer:\n",
    "\n",
    "\n"
   ]
  },
  {
   "cell_type": "markdown",
   "id": "815bf1b7",
   "metadata": {},
   "source": [
    "To complete the equations, we need substitute $r_A$, $r_B$… with the actual rate equations. For example, for the species E:\n",
    "\n",
    "$$\\frac{d\\dot n_E}{dV} = r_E = r_{2E} + r_{4E}$$\n",
    "\n",
    "$$\\Rightarrow \\frac{d\\dot n_E}{dV} = (-\\frac{1}{2} r_{2A}) + (-\\frac{5}{6} r_{4C})$$\n",
    "\n",
    "Note the adjustments to the coefficients due to stoichiometry and reactant/product relationships\n",
    "\n",
    "$$\\Rightarrow \\frac{d\\dot n_E}{dV} = \\frac{1}{2} k_{2A} C_A C_B + \\frac{5}{6} k_{4C} C_C C_A^{1.5}$$\n",
    "\n",
    "It can be seen that while the molar flow rate is the dependent variable on the left-hand side, the right-hand side is expressed in terms of concentration. The easiest way to resolve this for a liquid-phase system (where the volumetric flow rate $\\upsilon_0$ is conststant) is to realise that: \n",
    "\n",
    "$$\\dot n_i = C_i \\upsilon_0 \\Rightarrow \\frac{d\\dot n_E}{dV} = \\upsilon_0 \\frac{dC_i}{dV}$$\n",
    "\n",
    "Then:\n",
    "$$\\Rightarrow \\frac{dC_E}{dV} = (-\\frac{1}{2} r_{2A} -\\frac{5}{6} r_{4C})/\\upsilon_0$$\n",
    "\n",
    "or\n",
    "$$\\Rightarrow \\frac{dC_E}{dV} = (\\frac{1}{2} k_{2A} C_A C_B + \\frac{5}{6} k_{4C} C_C C_A^{1.5})/\\upsilon_0$$"
   ]
  },
  {
   "cell_type": "markdown",
   "id": "bf03447b",
   "metadata": {},
   "source": [
    "**Task: Construct the system of ODEs to describe the reactions in the PFR shown above. Take extra care with the signs of the terms and the coefficients relating to reaction stoichiometry!**"
   ]
  },
  {
   "cell_type": "markdown",
   "id": "bc9587b6",
   "metadata": {},
   "source": [
    "Answer:\n",
    "\n",
    "\n",
    "\n",
    "\n",
    "\n",
    "\n",
    "\n",
    "\n",
    "\n",
    "\n",
    "    "
   ]
  },
  {
   "cell_type": "markdown",
   "id": "35872736",
   "metadata": {},
   "source": [
    "### 2.2 Solving the ODE model with Python\n"
   ]
  },
  {
   "cell_type": "markdown",
   "id": "9322d4ec",
   "metadata": {},
   "source": [
    "Now we need to write a script in Python to solve this kinetics model, using one of the ODE solvers. Use the example of the consecutive reactions mechanism to help you do this. Include a plot how the concentrations of the species changee along the PFR.\n",
    "\n",
    "Some lines of code and comments are given below to help get you started. We'll call this function `compete`, since there are competing reactions in this reaction mechanism."
   ]
  },
  {
   "cell_type": "markdown",
   "id": "855b3d4f",
   "metadata": {},
   "source": [
    "Use the following reaction parameters and initial conditions: \n",
    "\n",
    "$k_{1A} = 5.0 (m^3/kmol)^2/min;k_{2A} = 2.0 m^3/(kmol\\cdot min)$\n",
    "\n",
    "$k_{3B} = 10.0 (m^3/kmol)^2/min;k_{4C} = 5.0 (m^3/kmol)^{2/3}/min$\n",
    "\n",
    "$C_{A0} = C_{B0} = 1.0 mol/dm3$\n",
    "\n",
    "$C_{C0} = C_{D0} = C_{E0} = C_{F0} = 0$\n",
    "\n",
    "$\\upsilon_0 = 10 dm^3/min$\n",
    "\n",
    "PFR volume $V = 10 dm^3$\n"
   ]
  },
  {
   "cell_type": "code",
   "execution_count": null,
   "id": "8f7eb01b",
   "metadata": {},
   "outputs": [],
   "source": [
    "# Using solve_ivp\n",
    "# import what you will need from relevant libraries.\n",
    "import numpy as np   \n",
    "from scipy.integrate import solve_ivp \n",
    "import matplotlib.pyplot as plt\n",
    "\n",
    "# Define the system of ODEs as your kinetics model to be solved.\n",
    "# solve_ivp to be used -> indep variable comes first\n",
    "def compete(V, concentrations):\n",
    "    A, B, C, D, E, F = concentrations\n",
    "\n",
    "    # Define the rate laws for the individual reactions - fill in the rest!\n",
    "    r1A = -k1A * A * B**2\n",
    "    r2A = -k2A * A * B   # rate law for Reaction 2\n",
    "    r3B = -k3B * C**2 * B\n",
    "    r4C = -k4C * C * A**1.5   #rate law for Reaction 4\n",
    "        \n",
    "    # Define the rate laws for the different species in the reaction - fill in the rest!\n",
    "    dA_dV = (r1A + r2A + (4/6)*r4C) / u0\n",
    "    dB_dV = ((5/4)*r1A + (1.5/2)*r2A + r3B) / u0\n",
    "    dC_dV = (-r1A + 2*r3B + r4C) / u0\n",
    "    dD_dV = (-(6/4)*r1A - (3/2)*r2A - r4C) / u0\n",
    "    dE_dV = (-(1/2)*r2A -(5/6)*r4C) / u0\n",
    "    dF_dV = (-2*r3B) / u0\n",
    "    return [dA_dV, dB_dV, dC_dV, dD_dV, dE_dV, dF_dV]\n",
    "\n",
    "# Define the constants\n",
    "k1A = 5.0\n",
    "k2A = 2.0\n",
    "k3B = 10.0\n",
    "k4C = 5.0\n",
    "u0 = 10.0\n",
    "\n",
    "# Define the initial concentrations\n",
    "A0 = 1.0\n",
    "B0 = 1.0\n",
    "C0 = 0.0\n",
    "D0 = 0.0\n",
    "E0 = 0.0\n",
    "F0 = 0.0\n",
    "\n",
    "# Define the volume span for the ODE solution\n",
    "V_span = (0, 10)\n",
    "\n",
    "# Solve using solve_ivp\n",
    "solution = solve_ivp(compete, V_span, [A0, B0, C0, D0, E0, F0], dense_output = True)\n",
    "print(solution) # not necessary, but a useful check when starting out\n",
    "\n",
    "V = solution.t   # this extracts the x-values (named t by solve_ivp, as it's assumed to be time points)\n",
    "concentrations = solution.y # this extracts the x-values (named y by solve_ivp)\n",
    "\n",
    "# Plot the results\n",
    "plt.plot(V, concentrations[0], label='[A]')  \n",
    "plt.plot(V, concentrations[1], label='[B]')\n",
    "plt.plot(V, concentrations[2], label='[C]')\n",
    "plt.plot(V, concentrations[3], label='[D]')\n",
    "plt.plot(V, concentrations[4], label='[E]')\n",
    "plt.plot(V, concentrations[5], label='[F]')\n",
    "plt.xlabel('Volume')\n",
    "plt.ylabel('Concentration')\n",
    "plt.legend()\n",
    "plt.title('Concentration vs volume for a complex competing reaction mechanism')\n",
    "plt.show()\n"
   ]
  },
  {
   "cell_type": "code",
   "execution_count": null,
   "id": "04f2aa5e",
   "metadata": {},
   "outputs": [],
   "source": [
    "# Using odeint\n",
    "# import what you will need from relevant libraries.\n",
    "import numpy as np   \n",
    "from scipy.integrate import odeint \n",
    "import matplotlib.pyplot as plt\n",
    "\n",
    "# Define the system of ODEs as your kinetics model to be solved.\n",
    "# odeint to be used -> dep variable comes first\n",
    "def compete(concentrations, V):\n",
    "    A, B, C, D, E, F = concentrations\n",
    "\n",
    "    # Define the rate laws for the individual reactions - fill in the rest!\n",
    "    r1A = -k1A * A * B**2\n",
    "    r2A = -k2A * A * B   # rate law for Reaction 2\n",
    "    r3B = -k3B * C**2 * B\n",
    "    r4C = -k4C * C * A**1.5   #rate law for Reaction 4\n",
    "        \n",
    "    # Define the rate laws for the different species in the reaction - fill in the rest!\n",
    "    dA_dV = (r1A + r2A + (4/6)*r4C) / u0\n",
    "    dB_dV = ((5/4)*r1A + (1.5/2)*r2A + r3B) / u0\n",
    "    dC_dV = (-r1A + 2*r3B + r4C) / u0\n",
    "    dD_dV = (-(6/4)*r1A - (3/2)*r2A - r4C) / u0\n",
    "    dE_dV = (-(1/2)*r2A -(5/6)*r4C) / u0\n",
    "    dF_dV = (-2*r3B) / u0\n",
    "    return [dA_dV, dB_dV, dC_dV, dD_dV, dE_dV, dF_dV]\n",
    "\n",
    "# Define the constants\n",
    "k1A = 5.0\n",
    "k2A = 2.0\n",
    "k3B = 10.0\n",
    "k4C = 5.0\n",
    "u0 = 10.0\n",
    "\n",
    "# Define the initial concentrations\n",
    "A0 = 1.0\n",
    "B0 = 1.0\n",
    "C0 = 0.0\n",
    "D0 = 0.0\n",
    "E0 = 0.0\n",
    "F0 = 0.0\n",
    "\n",
    "# Define the volume points for the ODE solution\n",
    "V = np.linspace(0, 10, 100)  \n",
    "print(V)\n",
    "\n",
    "# Solve using odeint\n",
    "solution = odeint(compete, [A0, B0, C0, D0, E0, F0], V)\n",
    "print(solution) # not necessary, but a useful check when starting out\n",
    "\n",
    "# Plot the results\n",
    "plt.plot(V, solution[:, 0], label='[A]')  \n",
    "plt.plot(V, solution[:, 1], label='[B]')\n",
    "plt.plot(V, solution[:, 2], label='[C]')\n",
    "plt.plot(V, solution[:, 3], label='[D]')\n",
    "plt.plot(V, solution[:, 4], label='[E]')\n",
    "plt.plot(V, solution[:, 5], label='[F]')\n",
    "plt.xlabel('Volume')\n",
    "plt.ylabel('Concentration')\n",
    "plt.legend()\n",
    "plt.title('Concentration vs volume for a complex competing reaction mechanism')\n",
    "plt.show()\n"
   ]
  },
  {
   "cell_type": "markdown",
   "id": "277674cc",
   "metadata": {},
   "source": [
    "**Question: Look at how [C] changes with reactor volume. Why does it change the way it does?**"
   ]
  },
  {
   "cell_type": "markdown",
   "id": "bdf6ea9a",
   "metadata": {},
   "source": [
    "Answer:\n",
    "\n",
    "\n",
    "\n"
   ]
  },
  {
   "cell_type": "markdown",
   "id": "27fa251f",
   "metadata": {},
   "source": [
    "**Question: What volume should the PFR have to maximise the yield of C? Determine this using Python!**"
   ]
  },
  {
   "cell_type": "code",
   "execution_count": null,
   "id": "45179b0f",
   "metadata": {},
   "outputs": [],
   "source": [
    "#Answer:\n",
    "\n",
    "\n",
    "\n",
    "\n"
   ]
  },
  {
   "cell_type": "markdown",
   "id": "7cff5483",
   "metadata": {},
   "source": [
    "**Question: If E were the desired product, and C and F were unwanted side products, would it be better to double the concentration of reactant A or reactant B in the feed to the reactor?**\n",
    "\n",
    "**Predict this first with reference to the kinetics modelwithout changing your code, then test this with a new calculation. Discuss and explain how your prediction compared to the calculated results.**"
   ]
  },
  {
   "cell_type": "markdown",
   "id": "44a27d8c",
   "metadata": {},
   "source": [
    "Answer:\n",
    "\n",
    "\n",
    "\n",
    "\n",
    "\n"
   ]
  }
 ],
 "metadata": {
  "kernelspec": {
   "display_name": "Python 3 (ipykernel)",
   "language": "python",
   "name": "python3"
  },
  "language_info": {
   "codemirror_mode": {
    "name": "ipython",
    "version": 3
   },
   "file_extension": ".py",
   "mimetype": "text/x-python",
   "name": "python",
   "nbconvert_exporter": "python",
   "pygments_lexer": "ipython3",
   "version": "3.9.16"
  }
 },
 "nbformat": 4,
 "nbformat_minor": 5
}
